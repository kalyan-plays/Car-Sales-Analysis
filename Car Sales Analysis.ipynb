{
 "cells": [
  {
   "cell_type": "code",
   "execution_count": 1,
   "metadata": {
    "execution": {
     "iopub.execute_input": "2022-01-31T20:27:35.479856Z",
     "iopub.status.busy": "2022-01-31T20:27:35.479452Z",
     "iopub.status.idle": "2022-01-31T20:27:35.490891Z",
     "shell.execute_reply": "2022-01-31T20:27:35.489901Z",
     "shell.execute_reply.started": "2022-01-31T20:27:35.479815Z"
    }
   },
   "outputs": [],
   "source": [
    "# import required libraries\n",
    "import numpy as np\n",
    "import pandas as pd\n",
    "import matplotlib.pyplot as plt\n",
    "import seaborn as sns\n",
    "\n",
    "import warnings\n",
    "warnings.filterwarnings('ignore')"
   ]
  },
  {
   "cell_type": "code",
   "execution_count": 2,
   "metadata": {
    "execution": {
     "iopub.execute_input": "2022-01-31T20:27:35.508292Z",
     "iopub.status.busy": "2022-01-31T20:27:35.507976Z",
     "iopub.status.idle": "2022-01-31T20:27:35.542633Z",
     "shell.execute_reply": "2022-01-31T20:27:35.541537Z",
     "shell.execute_reply.started": "2022-01-31T20:27:35.508255Z"
    }
   },
   "outputs": [],
   "source": [
    "df = pd.read_csv(\"Car details v3.csv\")"
   ]
  },
  {
   "cell_type": "code",
   "execution_count": 3,
   "metadata": {
    "execution": {
     "iopub.execute_input": "2022-01-31T20:27:35.545576Z",
     "iopub.status.busy": "2022-01-31T20:27:35.545022Z",
     "iopub.status.idle": "2022-01-31T20:27:35.567834Z",
     "shell.execute_reply": "2022-01-31T20:27:35.567152Z",
     "shell.execute_reply.started": "2022-01-31T20:27:35.545523Z"
    }
   },
   "outputs": [
    {
     "data": {
      "text/html": [
       "<div>\n",
       "<style scoped>\n",
       "    .dataframe tbody tr th:only-of-type {\n",
       "        vertical-align: middle;\n",
       "    }\n",
       "\n",
       "    .dataframe tbody tr th {\n",
       "        vertical-align: top;\n",
       "    }\n",
       "\n",
       "    .dataframe thead th {\n",
       "        text-align: right;\n",
       "    }\n",
       "</style>\n",
       "<table border=\"1\" class=\"dataframe\">\n",
       "  <thead>\n",
       "    <tr style=\"text-align: right;\">\n",
       "      <th></th>\n",
       "      <th>name</th>\n",
       "      <th>year</th>\n",
       "      <th>selling_price</th>\n",
       "      <th>km_driven</th>\n",
       "      <th>fuel</th>\n",
       "      <th>seller_type</th>\n",
       "      <th>transmission</th>\n",
       "      <th>owner</th>\n",
       "      <th>mileage</th>\n",
       "      <th>engine</th>\n",
       "      <th>max_power</th>\n",
       "      <th>torque</th>\n",
       "      <th>seats</th>\n",
       "    </tr>\n",
       "  </thead>\n",
       "  <tbody>\n",
       "    <tr>\n",
       "      <th>0</th>\n",
       "      <td>Maruti Swift Dzire VDI</td>\n",
       "      <td>2014</td>\n",
       "      <td>450000</td>\n",
       "      <td>145500</td>\n",
       "      <td>Diesel</td>\n",
       "      <td>Individual</td>\n",
       "      <td>Manual</td>\n",
       "      <td>First Owner</td>\n",
       "      <td>23.4 kmpl</td>\n",
       "      <td>1248 CC</td>\n",
       "      <td>74 bhp</td>\n",
       "      <td>190Nm@ 2000rpm</td>\n",
       "      <td>5.0</td>\n",
       "    </tr>\n",
       "    <tr>\n",
       "      <th>1</th>\n",
       "      <td>Skoda Rapid 1.5 TDI Ambition</td>\n",
       "      <td>2014</td>\n",
       "      <td>370000</td>\n",
       "      <td>120000</td>\n",
       "      <td>Diesel</td>\n",
       "      <td>Individual</td>\n",
       "      <td>Manual</td>\n",
       "      <td>Second Owner</td>\n",
       "      <td>21.14 kmpl</td>\n",
       "      <td>1498 CC</td>\n",
       "      <td>103.52 bhp</td>\n",
       "      <td>250Nm@ 1500-2500rpm</td>\n",
       "      <td>5.0</td>\n",
       "    </tr>\n",
       "    <tr>\n",
       "      <th>2</th>\n",
       "      <td>Honda City 2017-2020 EXi</td>\n",
       "      <td>2006</td>\n",
       "      <td>158000</td>\n",
       "      <td>140000</td>\n",
       "      <td>Petrol</td>\n",
       "      <td>Individual</td>\n",
       "      <td>Manual</td>\n",
       "      <td>Third Owner</td>\n",
       "      <td>17.7 kmpl</td>\n",
       "      <td>1497 CC</td>\n",
       "      <td>78 bhp</td>\n",
       "      <td>12.7@ 2,700(kgm@ rpm)</td>\n",
       "      <td>5.0</td>\n",
       "    </tr>\n",
       "    <tr>\n",
       "      <th>3</th>\n",
       "      <td>Hyundai i20 Sportz Diesel</td>\n",
       "      <td>2010</td>\n",
       "      <td>225000</td>\n",
       "      <td>127000</td>\n",
       "      <td>Diesel</td>\n",
       "      <td>Individual</td>\n",
       "      <td>Manual</td>\n",
       "      <td>First Owner</td>\n",
       "      <td>23.0 kmpl</td>\n",
       "      <td>1396 CC</td>\n",
       "      <td>90 bhp</td>\n",
       "      <td>22.4 kgm at 1750-2750rpm</td>\n",
       "      <td>5.0</td>\n",
       "    </tr>\n",
       "    <tr>\n",
       "      <th>4</th>\n",
       "      <td>Maruti Swift VXI BSIII</td>\n",
       "      <td>2007</td>\n",
       "      <td>130000</td>\n",
       "      <td>120000</td>\n",
       "      <td>Petrol</td>\n",
       "      <td>Individual</td>\n",
       "      <td>Manual</td>\n",
       "      <td>First Owner</td>\n",
       "      <td>16.1 kmpl</td>\n",
       "      <td>1298 CC</td>\n",
       "      <td>88.2 bhp</td>\n",
       "      <td>11.5@ 4,500(kgm@ rpm)</td>\n",
       "      <td>5.0</td>\n",
       "    </tr>\n",
       "  </tbody>\n",
       "</table>\n",
       "</div>"
      ],
      "text/plain": [
       "                           name  year  selling_price  km_driven    fuel  \\\n",
       "0        Maruti Swift Dzire VDI  2014         450000     145500  Diesel   \n",
       "1  Skoda Rapid 1.5 TDI Ambition  2014         370000     120000  Diesel   \n",
       "2      Honda City 2017-2020 EXi  2006         158000     140000  Petrol   \n",
       "3     Hyundai i20 Sportz Diesel  2010         225000     127000  Diesel   \n",
       "4        Maruti Swift VXI BSIII  2007         130000     120000  Petrol   \n",
       "\n",
       "  seller_type transmission         owner     mileage   engine   max_power  \\\n",
       "0  Individual       Manual   First Owner   23.4 kmpl  1248 CC      74 bhp   \n",
       "1  Individual       Manual  Second Owner  21.14 kmpl  1498 CC  103.52 bhp   \n",
       "2  Individual       Manual   Third Owner   17.7 kmpl  1497 CC      78 bhp   \n",
       "3  Individual       Manual   First Owner   23.0 kmpl  1396 CC      90 bhp   \n",
       "4  Individual       Manual   First Owner   16.1 kmpl  1298 CC    88.2 bhp   \n",
       "\n",
       "                     torque  seats  \n",
       "0            190Nm@ 2000rpm    5.0  \n",
       "1       250Nm@ 1500-2500rpm    5.0  \n",
       "2     12.7@ 2,700(kgm@ rpm)    5.0  \n",
       "3  22.4 kgm at 1750-2750rpm    5.0  \n",
       "4     11.5@ 4,500(kgm@ rpm)    5.0  "
      ]
     },
     "execution_count": 3,
     "metadata": {},
     "output_type": "execute_result"
    }
   ],
   "source": [
    "df.head()"
   ]
  },
  {
   "cell_type": "code",
   "execution_count": 4,
   "metadata": {
    "execution": {
     "iopub.execute_input": "2022-01-31T20:27:35.569345Z",
     "iopub.status.busy": "2022-01-31T20:27:35.568968Z",
     "iopub.status.idle": "2022-01-31T20:27:35.574639Z",
     "shell.execute_reply": "2022-01-31T20:27:35.573887Z",
     "shell.execute_reply.started": "2022-01-31T20:27:35.569312Z"
    }
   },
   "outputs": [
    {
     "data": {
      "text/plain": [
       "(8128, 13)"
      ]
     },
     "execution_count": 4,
     "metadata": {},
     "output_type": "execute_result"
    }
   ],
   "source": [
    "df.shape"
   ]
  },
  {
   "cell_type": "code",
   "execution_count": 5,
   "metadata": {
    "execution": {
     "iopub.execute_input": "2022-01-31T20:27:35.576539Z",
     "iopub.status.busy": "2022-01-31T20:27:35.575730Z",
     "iopub.status.idle": "2022-01-31T20:27:35.606434Z",
     "shell.execute_reply": "2022-01-31T20:27:35.605809Z",
     "shell.execute_reply.started": "2022-01-31T20:27:35.576495Z"
    }
   },
   "outputs": [
    {
     "name": "stdout",
     "output_type": "stream",
     "text": [
      "<class 'pandas.core.frame.DataFrame'>\n",
      "RangeIndex: 8128 entries, 0 to 8127\n",
      "Data columns (total 13 columns):\n",
      " #   Column         Non-Null Count  Dtype  \n",
      "---  ------         --------------  -----  \n",
      " 0   name           8128 non-null   object \n",
      " 1   year           8128 non-null   int64  \n",
      " 2   selling_price  8128 non-null   int64  \n",
      " 3   km_driven      8128 non-null   int64  \n",
      " 4   fuel           8128 non-null   object \n",
      " 5   seller_type    8128 non-null   object \n",
      " 6   transmission   8128 non-null   object \n",
      " 7   owner          8128 non-null   object \n",
      " 8   mileage        7907 non-null   object \n",
      " 9   engine         7907 non-null   object \n",
      " 10  max_power      7913 non-null   object \n",
      " 11  torque         7906 non-null   object \n",
      " 12  seats          7907 non-null   float64\n",
      "dtypes: float64(1), int64(3), object(9)\n",
      "memory usage: 825.6+ KB\n"
     ]
    }
   ],
   "source": [
    "df.info()"
   ]
  },
  {
   "cell_type": "markdown",
   "metadata": {},
   "source": [
    "**DATA CLEANING**"
   ]
  },
  {
   "cell_type": "code",
   "execution_count": 6,
   "metadata": {
    "execution": {
     "iopub.execute_input": "2022-01-31T20:27:35.608944Z",
     "iopub.status.busy": "2022-01-31T20:27:35.608326Z",
     "iopub.status.idle": "2022-01-31T20:27:35.631118Z",
     "shell.execute_reply": "2022-01-31T20:27:35.630290Z",
     "shell.execute_reply.started": "2022-01-31T20:27:35.608897Z"
    }
   },
   "outputs": [],
   "source": [
    "# remove kmpl from mileage and convert it into float type from object type\n",
    "df['mileage'] = df['mileage'].apply(lambda x: x.replace(\"kmpl\",\"\") if (type(x)) == str else np.nan )\n",
    "df['mileage'] = df['mileage'].apply(lambda x: x.replace(\"km/kg\",\"\") if (type(x)) == str else np.nan )\n",
    "df['mileage'] = df['mileage'].astype(\"float\")"
   ]
  },
  {
   "cell_type": "code",
   "execution_count": 7,
   "metadata": {
    "execution": {
     "iopub.execute_input": "2022-01-31T20:27:35.633334Z",
     "iopub.status.busy": "2022-01-31T20:27:35.632457Z",
     "iopub.status.idle": "2022-01-31T20:27:35.647556Z",
     "shell.execute_reply": "2022-01-31T20:27:35.646673Z",
     "shell.execute_reply.started": "2022-01-31T20:27:35.633263Z"
    }
   },
   "outputs": [],
   "source": [
    "# remove CC from engine variable \n",
    "df['engine'] = df['engine'].apply(lambda x: x.replace(\"CC\",\"\") if type(x)==str else np.nan)"
   ]
  },
  {
   "cell_type": "code",
   "execution_count": 8,
   "metadata": {
    "execution": {
     "iopub.execute_input": "2022-01-31T20:27:35.649935Z",
     "iopub.status.busy": "2022-01-31T20:27:35.649044Z",
     "iopub.status.idle": "2022-01-31T20:27:35.670185Z",
     "shell.execute_reply": "2022-01-31T20:27:35.669018Z",
     "shell.execute_reply.started": "2022-01-31T20:27:35.649886Z"
    }
   },
   "outputs": [],
   "source": [
    "# remove bhp from max_power and convert it into float type from object type\n",
    "df['max_power'] = df['max_power'].apply(lambda x : x.split()[0] if type(x)==str else np.nan )"
   ]
  },
  {
   "cell_type": "markdown",
   "metadata": {},
   "source": [
    "#### Missing values"
   ]
  },
  {
   "cell_type": "code",
   "execution_count": 9,
   "metadata": {
    "execution": {
     "iopub.execute_input": "2022-01-31T20:27:35.671830Z",
     "iopub.status.busy": "2022-01-31T20:27:35.671569Z",
     "iopub.status.idle": "2022-01-31T20:27:35.698061Z",
     "shell.execute_reply": "2022-01-31T20:27:35.697118Z",
     "shell.execute_reply.started": "2022-01-31T20:27:35.671800Z"
    }
   },
   "outputs": [
    {
     "data": {
      "text/plain": [
       "torque       2.73\n",
       "mileage      2.72\n",
       "engine       2.72\n",
       "seats        2.72\n",
       "max_power    2.65\n",
       "dtype: float64"
      ]
     },
     "execution_count": 9,
     "metadata": {},
     "output_type": "execute_result"
    }
   ],
   "source": [
    "# check missing values percentage in each column\n",
    "df.isnull().mean().round(4).mul(100).sort_values(ascending=False).head()"
   ]
  },
  {
   "cell_type": "code",
   "execution_count": 10,
   "metadata": {
    "execution": {
     "iopub.execute_input": "2022-01-31T20:27:35.700420Z",
     "iopub.status.busy": "2022-01-31T20:27:35.699606Z",
     "iopub.status.idle": "2022-01-31T20:27:35.709677Z",
     "shell.execute_reply": "2022-01-31T20:27:35.708681Z",
     "shell.execute_reply.started": "2022-01-31T20:27:35.700372Z"
    }
   },
   "outputs": [
    {
     "name": "stdout",
     "output_type": "stream",
     "text": [
      "Before converting dtype: float64\n",
      "After converting dtype: category\n"
     ]
    }
   ],
   "source": [
    "# As seats is categorical column, let's first convert it to categorical from float\n",
    "print(\"Before converting dtype: \" + str(df.seats.dtype))\n",
    "df.seats = df.seats.astype('category')\n",
    "print(\"After converting dtype: \" + str(df.seats.dtype))"
   ]
  },
  {
   "cell_type": "code",
   "execution_count": 11,
   "metadata": {
    "execution": {
     "iopub.execute_input": "2022-01-31T20:27:35.711411Z",
     "iopub.status.busy": "2022-01-31T20:27:35.710852Z",
     "iopub.status.idle": "2022-01-31T20:27:35.724457Z",
     "shell.execute_reply": "2022-01-31T20:27:35.723567Z",
     "shell.execute_reply.started": "2022-01-31T20:27:35.711379Z"
    }
   },
   "outputs": [
    {
     "data": {
      "text/plain": [
       "5.0     6254\n",
       "7.0     1120\n",
       "8.0      236\n",
       "4.0      133\n",
       "9.0       80\n",
       "6.0       62\n",
       "10.0      19\n",
       "2.0        2\n",
       "14.0       1\n",
       "Name: seats, dtype: int64"
      ]
     },
     "execution_count": 11,
     "metadata": {},
     "output_type": "execute_result"
    }
   ],
   "source": [
    "df.seats.value_counts()"
   ]
  },
  {
   "cell_type": "code",
   "execution_count": 12,
   "metadata": {
    "execution": {
     "iopub.execute_input": "2022-01-31T20:27:35.726409Z",
     "iopub.status.busy": "2022-01-31T20:27:35.725746Z",
     "iopub.status.idle": "2022-01-31T20:27:35.737182Z",
     "shell.execute_reply": "2022-01-31T20:27:35.736298Z",
     "shell.execute_reply.started": "2022-01-31T20:27:35.726365Z"
    }
   },
   "outputs": [
    {
     "data": {
      "text/plain": [
       "0                  190Nm@ 2000rpm\n",
       "1             250Nm@ 1500-2500rpm\n",
       "2           12.7@ 2,700(kgm@ rpm)\n",
       "3        22.4 kgm at 1750-2750rpm\n",
       "4           11.5@ 4,500(kgm@ rpm)\n",
       "                  ...            \n",
       "8123             113.7Nm@ 4000rpm\n",
       "8124    24@ 1,900-2,750(kgm@ rpm)\n",
       "8125               190Nm@ 2000rpm\n",
       "8126          140Nm@ 1800-3000rpm\n",
       "8127          140Nm@ 1800-3000rpm\n",
       "Name: torque, Length: 8128, dtype: object"
      ]
     },
     "execution_count": 12,
     "metadata": {},
     "output_type": "execute_result"
    }
   ],
   "source": [
    "df.torque"
   ]
  },
  {
   "cell_type": "code",
   "execution_count": 13,
   "metadata": {
    "execution": {
     "iopub.execute_input": "2022-01-31T20:27:35.738957Z",
     "iopub.status.busy": "2022-01-31T20:27:35.738601Z",
     "iopub.status.idle": "2022-01-31T20:27:35.749933Z",
     "shell.execute_reply": "2022-01-31T20:27:35.749013Z",
     "shell.execute_reply.started": "2022-01-31T20:27:35.738913Z"
    }
   },
   "outputs": [],
   "source": [
    "# we will drop the torque as it doesn' have proper format\n",
    "df.drop([\"torque\"],axis=1,inplace=True)"
   ]
  },
  {
   "cell_type": "code",
   "execution_count": 15,
   "metadata": {
    "execution": {
     "iopub.execute_input": "2022-01-31T20:27:35.753402Z",
     "iopub.status.busy": "2022-01-31T20:27:35.752962Z",
     "iopub.status.idle": "2022-01-31T20:27:35.777468Z",
     "shell.execute_reply": "2022-01-31T20:27:35.776749Z",
     "shell.execute_reply.started": "2022-01-31T20:27:35.753354Z"
    }
   },
   "outputs": [
    {
     "data": {
      "text/plain": [
       "mileage      2.72\n",
       "engine       2.72\n",
       "seats        2.72\n",
       "max_power    2.65\n",
       "name         0.00\n",
       "dtype: float64"
      ]
     },
     "execution_count": 15,
     "metadata": {},
     "output_type": "execute_result"
    }
   ],
   "source": [
    "# check missing values percentage in each column\n",
    "df.isnull().mean().round(4).mul(100).sort_values(ascending=False).head()"
   ]
  },
  {
   "cell_type": "code",
   "execution_count": 16,
   "metadata": {
    "execution": {
     "iopub.execute_input": "2022-01-31T20:27:35.779664Z",
     "iopub.status.busy": "2022-01-31T20:27:35.779186Z",
     "iopub.status.idle": "2022-01-31T20:27:35.805543Z",
     "shell.execute_reply": "2022-01-31T20:27:35.804754Z",
     "shell.execute_reply.started": "2022-01-31T20:27:35.779626Z"
    }
   },
   "outputs": [
    {
     "data": {
      "text/html": [
       "<div>\n",
       "<style scoped>\n",
       "    .dataframe tbody tr th:only-of-type {\n",
       "        vertical-align: middle;\n",
       "    }\n",
       "\n",
       "    .dataframe tbody tr th {\n",
       "        vertical-align: top;\n",
       "    }\n",
       "\n",
       "    .dataframe thead th {\n",
       "        text-align: right;\n",
       "    }\n",
       "</style>\n",
       "<table border=\"1\" class=\"dataframe\">\n",
       "  <thead>\n",
       "    <tr style=\"text-align: right;\">\n",
       "      <th></th>\n",
       "      <th>name</th>\n",
       "      <th>year</th>\n",
       "      <th>selling_price</th>\n",
       "      <th>km_driven</th>\n",
       "      <th>fuel</th>\n",
       "      <th>seller_type</th>\n",
       "      <th>transmission</th>\n",
       "      <th>owner</th>\n",
       "      <th>mileage</th>\n",
       "      <th>engine</th>\n",
       "      <th>max_power</th>\n",
       "      <th>seats</th>\n",
       "    </tr>\n",
       "  </thead>\n",
       "  <tbody>\n",
       "    <tr>\n",
       "      <th>13</th>\n",
       "      <td>Maruti Swift 1.3 VXi</td>\n",
       "      <td>2007</td>\n",
       "      <td>200000</td>\n",
       "      <td>80000</td>\n",
       "      <td>Petrol</td>\n",
       "      <td>Individual</td>\n",
       "      <td>Manual</td>\n",
       "      <td>Second Owner</td>\n",
       "      <td>NaN</td>\n",
       "      <td>NaN</td>\n",
       "      <td>NaN</td>\n",
       "      <td>NaN</td>\n",
       "    </tr>\n",
       "    <tr>\n",
       "      <th>31</th>\n",
       "      <td>Fiat Palio 1.2 ELX</td>\n",
       "      <td>2003</td>\n",
       "      <td>70000</td>\n",
       "      <td>50000</td>\n",
       "      <td>Petrol</td>\n",
       "      <td>Individual</td>\n",
       "      <td>Manual</td>\n",
       "      <td>Second Owner</td>\n",
       "      <td>NaN</td>\n",
       "      <td>NaN</td>\n",
       "      <td>NaN</td>\n",
       "      <td>NaN</td>\n",
       "    </tr>\n",
       "    <tr>\n",
       "      <th>78</th>\n",
       "      <td>Tata Indica DLS</td>\n",
       "      <td>2003</td>\n",
       "      <td>50000</td>\n",
       "      <td>70000</td>\n",
       "      <td>Diesel</td>\n",
       "      <td>Individual</td>\n",
       "      <td>Manual</td>\n",
       "      <td>First Owner</td>\n",
       "      <td>NaN</td>\n",
       "      <td>NaN</td>\n",
       "      <td>NaN</td>\n",
       "      <td>NaN</td>\n",
       "    </tr>\n",
       "    <tr>\n",
       "      <th>87</th>\n",
       "      <td>Maruti Swift VDI BSIV W ABS</td>\n",
       "      <td>2015</td>\n",
       "      <td>475000</td>\n",
       "      <td>78000</td>\n",
       "      <td>Diesel</td>\n",
       "      <td>Dealer</td>\n",
       "      <td>Manual</td>\n",
       "      <td>First Owner</td>\n",
       "      <td>NaN</td>\n",
       "      <td>NaN</td>\n",
       "      <td>NaN</td>\n",
       "      <td>NaN</td>\n",
       "    </tr>\n",
       "    <tr>\n",
       "      <th>119</th>\n",
       "      <td>Maruti Swift VDI BSIV</td>\n",
       "      <td>2010</td>\n",
       "      <td>300000</td>\n",
       "      <td>120000</td>\n",
       "      <td>Diesel</td>\n",
       "      <td>Individual</td>\n",
       "      <td>Manual</td>\n",
       "      <td>Second Owner</td>\n",
       "      <td>NaN</td>\n",
       "      <td>NaN</td>\n",
       "      <td>NaN</td>\n",
       "      <td>NaN</td>\n",
       "    </tr>\n",
       "    <tr>\n",
       "      <th>...</th>\n",
       "      <td>...</td>\n",
       "      <td>...</td>\n",
       "      <td>...</td>\n",
       "      <td>...</td>\n",
       "      <td>...</td>\n",
       "      <td>...</td>\n",
       "      <td>...</td>\n",
       "      <td>...</td>\n",
       "      <td>...</td>\n",
       "      <td>...</td>\n",
       "      <td>...</td>\n",
       "      <td>...</td>\n",
       "    </tr>\n",
       "    <tr>\n",
       "      <th>7846</th>\n",
       "      <td>Toyota Qualis Fleet A3</td>\n",
       "      <td>2000</td>\n",
       "      <td>200000</td>\n",
       "      <td>100000</td>\n",
       "      <td>Diesel</td>\n",
       "      <td>Individual</td>\n",
       "      <td>Manual</td>\n",
       "      <td>First Owner</td>\n",
       "      <td>NaN</td>\n",
       "      <td>NaN</td>\n",
       "      <td>NaN</td>\n",
       "      <td>NaN</td>\n",
       "    </tr>\n",
       "    <tr>\n",
       "      <th>7996</th>\n",
       "      <td>Hyundai Santro LS zipPlus</td>\n",
       "      <td>2000</td>\n",
       "      <td>140000</td>\n",
       "      <td>50000</td>\n",
       "      <td>Petrol</td>\n",
       "      <td>Individual</td>\n",
       "      <td>Manual</td>\n",
       "      <td>Second Owner</td>\n",
       "      <td>NaN</td>\n",
       "      <td>NaN</td>\n",
       "      <td>NaN</td>\n",
       "      <td>NaN</td>\n",
       "    </tr>\n",
       "    <tr>\n",
       "      <th>8009</th>\n",
       "      <td>Hyundai Santro Xing XS eRLX Euro III</td>\n",
       "      <td>2006</td>\n",
       "      <td>145000</td>\n",
       "      <td>80000</td>\n",
       "      <td>Petrol</td>\n",
       "      <td>Individual</td>\n",
       "      <td>Manual</td>\n",
       "      <td>Second Owner</td>\n",
       "      <td>NaN</td>\n",
       "      <td>NaN</td>\n",
       "      <td>NaN</td>\n",
       "      <td>NaN</td>\n",
       "    </tr>\n",
       "    <tr>\n",
       "      <th>8068</th>\n",
       "      <td>Ford Figo Aspire Facelift</td>\n",
       "      <td>2017</td>\n",
       "      <td>580000</td>\n",
       "      <td>165000</td>\n",
       "      <td>Diesel</td>\n",
       "      <td>Individual</td>\n",
       "      <td>Manual</td>\n",
       "      <td>First Owner</td>\n",
       "      <td>NaN</td>\n",
       "      <td>NaN</td>\n",
       "      <td>NaN</td>\n",
       "      <td>NaN</td>\n",
       "    </tr>\n",
       "    <tr>\n",
       "      <th>8103</th>\n",
       "      <td>Maruti Swift 1.3 VXi</td>\n",
       "      <td>2006</td>\n",
       "      <td>130000</td>\n",
       "      <td>100000</td>\n",
       "      <td>Petrol</td>\n",
       "      <td>Individual</td>\n",
       "      <td>Manual</td>\n",
       "      <td>Second Owner</td>\n",
       "      <td>NaN</td>\n",
       "      <td>NaN</td>\n",
       "      <td>NaN</td>\n",
       "      <td>NaN</td>\n",
       "    </tr>\n",
       "  </tbody>\n",
       "</table>\n",
       "<p>221 rows × 12 columns</p>\n",
       "</div>"
      ],
      "text/plain": [
       "                                      name  year  selling_price  km_driven  \\\n",
       "13                    Maruti Swift 1.3 VXi  2007         200000      80000   \n",
       "31                      Fiat Palio 1.2 ELX  2003          70000      50000   \n",
       "78                         Tata Indica DLS  2003          50000      70000   \n",
       "87             Maruti Swift VDI BSIV W ABS  2015         475000      78000   \n",
       "119                  Maruti Swift VDI BSIV  2010         300000     120000   \n",
       "...                                    ...   ...            ...        ...   \n",
       "7846                Toyota Qualis Fleet A3  2000         200000     100000   \n",
       "7996             Hyundai Santro LS zipPlus  2000         140000      50000   \n",
       "8009  Hyundai Santro Xing XS eRLX Euro III  2006         145000      80000   \n",
       "8068             Ford Figo Aspire Facelift  2017         580000     165000   \n",
       "8103                  Maruti Swift 1.3 VXi  2006         130000     100000   \n",
       "\n",
       "        fuel seller_type transmission         owner  mileage engine max_power  \\\n",
       "13    Petrol  Individual       Manual  Second Owner      NaN    NaN       NaN   \n",
       "31    Petrol  Individual       Manual  Second Owner      NaN    NaN       NaN   \n",
       "78    Diesel  Individual       Manual   First Owner      NaN    NaN       NaN   \n",
       "87    Diesel      Dealer       Manual   First Owner      NaN    NaN       NaN   \n",
       "119   Diesel  Individual       Manual  Second Owner      NaN    NaN       NaN   \n",
       "...      ...         ...          ...           ...      ...    ...       ...   \n",
       "7846  Diesel  Individual       Manual   First Owner      NaN    NaN       NaN   \n",
       "7996  Petrol  Individual       Manual  Second Owner      NaN    NaN       NaN   \n",
       "8009  Petrol  Individual       Manual  Second Owner      NaN    NaN       NaN   \n",
       "8068  Diesel  Individual       Manual   First Owner      NaN    NaN       NaN   \n",
       "8103  Petrol  Individual       Manual  Second Owner      NaN    NaN       NaN   \n",
       "\n",
       "     seats  \n",
       "13     NaN  \n",
       "31     NaN  \n",
       "78     NaN  \n",
       "87     NaN  \n",
       "119    NaN  \n",
       "...    ...  \n",
       "7846   NaN  \n",
       "7996   NaN  \n",
       "8009   NaN  \n",
       "8068   NaN  \n",
       "8103   NaN  \n",
       "\n",
       "[221 rows x 12 columns]"
      ]
     },
     "execution_count": 16,
     "metadata": {},
     "output_type": "execute_result"
    }
   ],
   "source": [
    "df[df[\"mileage\"].isnull() & df[\"engine\"].isnull() & df[\"seats\"].isnull()]"
   ]
  },
  {
   "cell_type": "markdown",
   "metadata": {},
   "source": [
    "above rows indicate pattern in missing values, it is better to drop them instead of imputing"
   ]
  },
  {
   "cell_type": "code",
   "execution_count": 17,
   "metadata": {
    "execution": {
     "iopub.execute_input": "2022-01-31T20:27:35.807121Z",
     "iopub.status.busy": "2022-01-31T20:27:35.806857Z",
     "iopub.status.idle": "2022-01-31T20:27:35.822228Z",
     "shell.execute_reply": "2022-01-31T20:27:35.821254Z",
     "shell.execute_reply.started": "2022-01-31T20:27:35.807089Z"
    }
   },
   "outputs": [],
   "source": [
    "df.dropna(inplace=True)"
   ]
  },
  {
   "cell_type": "code",
   "execution_count": 18,
   "metadata": {
    "execution": {
     "iopub.execute_input": "2022-01-31T20:27:35.823830Z",
     "iopub.status.busy": "2022-01-31T20:27:35.823538Z",
     "iopub.status.idle": "2022-01-31T20:27:35.832976Z",
     "shell.execute_reply": "2022-01-31T20:27:35.831741Z",
     "shell.execute_reply.started": "2022-01-31T20:27:35.823797Z"
    }
   },
   "outputs": [
    {
     "data": {
      "text/plain": [
       "(7907, 12)"
      ]
     },
     "execution_count": 18,
     "metadata": {},
     "output_type": "execute_result"
    }
   ],
   "source": [
    "df.shape"
   ]
  },
  {
   "cell_type": "code",
   "execution_count": 19,
   "metadata": {
    "execution": {
     "iopub.execute_input": "2022-01-31T20:27:35.834576Z",
     "iopub.status.busy": "2022-01-31T20:27:35.834185Z",
     "iopub.status.idle": "2022-01-31T20:27:35.857268Z",
     "shell.execute_reply": "2022-01-31T20:27:35.856020Z",
     "shell.execute_reply.started": "2022-01-31T20:27:35.834542Z"
    }
   },
   "outputs": [
    {
     "data": {
      "text/html": [
       "<div>\n",
       "<style scoped>\n",
       "    .dataframe tbody tr th:only-of-type {\n",
       "        vertical-align: middle;\n",
       "    }\n",
       "\n",
       "    .dataframe tbody tr th {\n",
       "        vertical-align: top;\n",
       "    }\n",
       "\n",
       "    .dataframe thead th {\n",
       "        text-align: right;\n",
       "    }\n",
       "</style>\n",
       "<table border=\"1\" class=\"dataframe\">\n",
       "  <thead>\n",
       "    <tr style=\"text-align: right;\">\n",
       "      <th></th>\n",
       "      <th>name</th>\n",
       "      <th>year</th>\n",
       "      <th>selling_price</th>\n",
       "      <th>km_driven</th>\n",
       "      <th>fuel</th>\n",
       "      <th>seller_type</th>\n",
       "      <th>transmission</th>\n",
       "      <th>owner</th>\n",
       "      <th>mileage</th>\n",
       "      <th>engine</th>\n",
       "      <th>max_power</th>\n",
       "      <th>seats</th>\n",
       "    </tr>\n",
       "  </thead>\n",
       "  <tbody>\n",
       "    <tr>\n",
       "      <th>0</th>\n",
       "      <td>Maruti Swift Dzire VDI</td>\n",
       "      <td>2014</td>\n",
       "      <td>450000</td>\n",
       "      <td>145500</td>\n",
       "      <td>Diesel</td>\n",
       "      <td>Individual</td>\n",
       "      <td>Manual</td>\n",
       "      <td>First Owner</td>\n",
       "      <td>23.40</td>\n",
       "      <td>1248</td>\n",
       "      <td>74</td>\n",
       "      <td>5.0</td>\n",
       "    </tr>\n",
       "    <tr>\n",
       "      <th>1</th>\n",
       "      <td>Skoda Rapid 1.5 TDI Ambition</td>\n",
       "      <td>2014</td>\n",
       "      <td>370000</td>\n",
       "      <td>120000</td>\n",
       "      <td>Diesel</td>\n",
       "      <td>Individual</td>\n",
       "      <td>Manual</td>\n",
       "      <td>Second Owner</td>\n",
       "      <td>21.14</td>\n",
       "      <td>1498</td>\n",
       "      <td>103.52</td>\n",
       "      <td>5.0</td>\n",
       "    </tr>\n",
       "    <tr>\n",
       "      <th>2</th>\n",
       "      <td>Honda City 2017-2020 EXi</td>\n",
       "      <td>2006</td>\n",
       "      <td>158000</td>\n",
       "      <td>140000</td>\n",
       "      <td>Petrol</td>\n",
       "      <td>Individual</td>\n",
       "      <td>Manual</td>\n",
       "      <td>Third Owner</td>\n",
       "      <td>17.70</td>\n",
       "      <td>1497</td>\n",
       "      <td>78</td>\n",
       "      <td>5.0</td>\n",
       "    </tr>\n",
       "    <tr>\n",
       "      <th>3</th>\n",
       "      <td>Hyundai i20 Sportz Diesel</td>\n",
       "      <td>2010</td>\n",
       "      <td>225000</td>\n",
       "      <td>127000</td>\n",
       "      <td>Diesel</td>\n",
       "      <td>Individual</td>\n",
       "      <td>Manual</td>\n",
       "      <td>First Owner</td>\n",
       "      <td>23.00</td>\n",
       "      <td>1396</td>\n",
       "      <td>90</td>\n",
       "      <td>5.0</td>\n",
       "    </tr>\n",
       "    <tr>\n",
       "      <th>4</th>\n",
       "      <td>Maruti Swift VXI BSIII</td>\n",
       "      <td>2007</td>\n",
       "      <td>130000</td>\n",
       "      <td>120000</td>\n",
       "      <td>Petrol</td>\n",
       "      <td>Individual</td>\n",
       "      <td>Manual</td>\n",
       "      <td>First Owner</td>\n",
       "      <td>16.10</td>\n",
       "      <td>1298</td>\n",
       "      <td>88.2</td>\n",
       "      <td>5.0</td>\n",
       "    </tr>\n",
       "  </tbody>\n",
       "</table>\n",
       "</div>"
      ],
      "text/plain": [
       "                           name  year  selling_price  km_driven    fuel  \\\n",
       "0        Maruti Swift Dzire VDI  2014         450000     145500  Diesel   \n",
       "1  Skoda Rapid 1.5 TDI Ambition  2014         370000     120000  Diesel   \n",
       "2      Honda City 2017-2020 EXi  2006         158000     140000  Petrol   \n",
       "3     Hyundai i20 Sportz Diesel  2010         225000     127000  Diesel   \n",
       "4        Maruti Swift VXI BSIII  2007         130000     120000  Petrol   \n",
       "\n",
       "  seller_type transmission         owner  mileage engine max_power seats  \n",
       "0  Individual       Manual   First Owner    23.40  1248         74   5.0  \n",
       "1  Individual       Manual  Second Owner    21.14  1498     103.52   5.0  \n",
       "2  Individual       Manual   Third Owner    17.70  1497         78   5.0  \n",
       "3  Individual       Manual   First Owner    23.00  1396         90   5.0  \n",
       "4  Individual       Manual   First Owner    16.10  1298       88.2   5.0  "
      ]
     },
     "execution_count": 19,
     "metadata": {},
     "output_type": "execute_result"
    }
   ],
   "source": [
    "df.head()"
   ]
  },
  {
   "cell_type": "code",
   "execution_count": 20,
   "metadata": {
    "execution": {
     "iopub.execute_input": "2022-01-31T20:27:35.859084Z",
     "iopub.status.busy": "2022-01-31T20:27:35.858378Z",
     "iopub.status.idle": "2022-01-31T20:27:35.878281Z",
     "shell.execute_reply": "2022-01-31T20:27:35.877556Z",
     "shell.execute_reply.started": "2022-01-31T20:27:35.859041Z"
    }
   },
   "outputs": [
    {
     "name": "stdout",
     "output_type": "stream",
     "text": [
      "<class 'pandas.core.frame.DataFrame'>\n",
      "Int64Index: 7907 entries, 0 to 8127\n",
      "Data columns (total 12 columns):\n",
      " #   Column         Non-Null Count  Dtype   \n",
      "---  ------         --------------  -----   \n",
      " 0   name           7907 non-null   object  \n",
      " 1   year           7907 non-null   int64   \n",
      " 2   selling_price  7907 non-null   int64   \n",
      " 3   km_driven      7907 non-null   int64   \n",
      " 4   fuel           7907 non-null   object  \n",
      " 5   seller_type    7907 non-null   object  \n",
      " 6   transmission   7907 non-null   object  \n",
      " 7   owner          7907 non-null   object  \n",
      " 8   mileage        7907 non-null   float64 \n",
      " 9   engine         7907 non-null   object  \n",
      " 10  max_power      7907 non-null   object  \n",
      " 11  seats          7907 non-null   category\n",
      "dtypes: category(1), float64(1), int64(3), object(7)\n",
      "memory usage: 749.4+ KB\n"
     ]
    }
   ],
   "source": [
    "df.info()"
   ]
  },
  {
   "cell_type": "code",
   "execution_count": 21,
   "metadata": {
    "execution": {
     "iopub.execute_input": "2022-01-31T20:27:35.881495Z",
     "iopub.status.busy": "2022-01-31T20:27:35.880957Z",
     "iopub.status.idle": "2022-01-31T20:27:35.903688Z",
     "shell.execute_reply": "2022-01-31T20:27:35.902513Z",
     "shell.execute_reply.started": "2022-01-31T20:27:35.881461Z"
    }
   },
   "outputs": [],
   "source": [
    "df[df['max_power'].str.contains('bhp')]\n",
    "# we have one row containing only bhp with no value in it, lets drop it\n",
    "df = df[df['max_power'].str.contains('bhp') == False]\n",
    "# convert from object type to their respective types\n",
    "df[\"engine\"] = df[\"engine\"].astype(int)\n",
    "df[\"max_power\"] = df[\"max_power\"].astype(float)"
   ]
  },
  {
   "cell_type": "markdown",
   "metadata": {},
   "source": [
    "#### EDA"
   ]
  },
  {
   "cell_type": "code",
   "execution_count": 22,
   "metadata": {
    "execution": {
     "iopub.execute_input": "2022-01-31T20:27:35.905214Z",
     "iopub.status.busy": "2022-01-31T20:27:35.904958Z",
     "iopub.status.idle": "2022-01-31T20:27:35.915979Z",
     "shell.execute_reply": "2022-01-31T20:27:35.915186Z",
     "shell.execute_reply.started": "2022-01-31T20:27:35.905182Z"
    }
   },
   "outputs": [
    {
     "data": {
      "text/plain": [
       "Diesel    4299\n",
       "Petrol    3520\n",
       "CNG         52\n",
       "LPG         35\n",
       "Name: fuel, dtype: int64"
      ]
     },
     "execution_count": 22,
     "metadata": {},
     "output_type": "execute_result"
    }
   ],
   "source": [
    "df[\"fuel\"].value_counts()"
   ]
  },
  {
   "cell_type": "code",
   "execution_count": 23,
   "metadata": {
    "execution": {
     "iopub.execute_input": "2022-01-31T20:27:35.918198Z",
     "iopub.status.busy": "2022-01-31T20:27:35.917246Z",
     "iopub.status.idle": "2022-01-31T20:27:36.096676Z",
     "shell.execute_reply": "2022-01-31T20:27:36.095783Z",
     "shell.execute_reply.started": "2022-01-31T20:27:35.918151Z"
    },
    "scrolled": true
   },
   "outputs": [
    {
     "data": {
      "image/png": "[encoded data removed]",
      "text/plain": [
       "<Figure size 432x288 with 1 Axes>"
      ]
     },
     "metadata": {
      "needs_background": "light"
     },
     "output_type": "display_data"
    }
   ],
   "source": [
    "sns.countplot(x='fuel', data=df)\n",
    "plt.show()"
   ]
  },
  {
   "cell_type": "markdown",
   "metadata": {},
   "source": [
    " Inference - Diesel cars leading and very few LPG,CNG cars "
   ]
  },
  {
   "cell_type": "code",
   "execution_count": 24,
   "metadata": {
    "execution": {
     "iopub.execute_input": "2022-01-31T20:27:36.098763Z",
     "iopub.status.busy": "2022-01-31T20:27:36.098420Z",
     "iopub.status.idle": "2022-01-31T20:27:36.108310Z",
     "shell.execute_reply": "2022-01-31T20:27:36.107336Z",
     "shell.execute_reply.started": "2022-01-31T20:27:36.098718Z"
    }
   },
   "outputs": [
    {
     "data": {
      "text/plain": [
       "Individual          6563\n",
       "Dealer              1107\n",
       "Trustmark Dealer     236\n",
       "Name: seller_type, dtype: int64"
      ]
     },
     "execution_count": 24,
     "metadata": {},
     "output_type": "execute_result"
    }
   ],
   "source": [
    "df[\"seller_type\"].value_counts()"
   ]
  },
  {
   "cell_type": "code",
   "execution_count": 41,
   "metadata": {
    "execution": {
     "iopub.execute_input": "2022-01-31T20:27:36.110472Z",
     "iopub.status.busy": "2022-01-31T20:27:36.109980Z",
     "iopub.status.idle": "2022-01-31T20:27:36.291956Z",
     "shell.execute_reply": "2022-01-31T20:27:36.290995Z",
     "shell.execute_reply.started": "2022-01-31T20:27:36.110435Z"
    }
   },
   "outputs": [
    {
     "data": {
      "image/png": "[encoded data removed]",
      "text/plain": [
       "<Figure size 432x288 with 1 Axes>"
      ]
     },
     "metadata": {
      "needs_background": "light"
     },
     "output_type": "display_data"
    }
   ],
   "source": [
    "sns.countplot(x='seller_type', data=df)\n",
    "plt.show()"
   ]
  },
  {
   "cell_type": "markdown",
   "metadata": {},
   "source": [
    "Most of the sellers (6563) in this platform are individuals"
   ]
  },
  {
   "cell_type": "code",
   "execution_count": 42,
   "metadata": {
    "execution": {
     "iopub.execute_input": "2022-01-31T20:27:36.293490Z",
     "iopub.status.busy": "2022-01-31T20:27:36.293237Z",
     "iopub.status.idle": "2022-01-31T20:27:36.303024Z",
     "shell.execute_reply": "2022-01-31T20:27:36.302374Z",
     "shell.execute_reply.started": "2022-01-31T20:27:36.293460Z"
    }
   },
   "outputs": [
    {
     "data": {
      "text/plain": [
       "Manual       6132\n",
       "Automatic     570\n",
       "Name: transmission, dtype: int64"
      ]
     },
     "execution_count": 42,
     "metadata": {},
     "output_type": "execute_result"
    }
   ],
   "source": [
    "df[\"transmission\"].value_counts()"
   ]
  },
  {
   "cell_type": "code",
   "execution_count": 43,
   "metadata": {
    "execution": {
     "iopub.execute_input": "2022-01-31T20:27:36.304987Z",
     "iopub.status.busy": "2022-01-31T20:27:36.304085Z",
     "iopub.status.idle": "2022-01-31T20:27:36.487399Z",
     "shell.execute_reply": "2022-01-31T20:27:36.486439Z",
     "shell.execute_reply.started": "2022-01-31T20:27:36.304943Z"
    }
   },
   "outputs": [
    {
     "data": {
      "image/png": "[encoded data removed]",
      "text/plain": [
       "<Figure size 432x288 with 1 Axes>"
      ]
     },
     "metadata": {
      "needs_background": "light"
     },
     "output_type": "display_data"
    }
   ],
   "source": [
    "sns.countplot(x='transmission', data=df)\n",
    "plt.show()"
   ]
  },
  {
   "cell_type": "markdown",
   "metadata": {},
   "source": [
    "  Transmission type of most cars are manual"
   ]
  },
  {
   "cell_type": "code",
   "execution_count": 45,
   "metadata": {
    "execution": {
     "iopub.execute_input": "2022-01-31T20:27:36.488897Z",
     "iopub.status.busy": "2022-01-31T20:27:36.488660Z",
     "iopub.status.idle": "2022-01-31T20:27:36.497991Z",
     "shell.execute_reply": "2022-01-31T20:27:36.497226Z",
     "shell.execute_reply.started": "2022-01-31T20:27:36.488867Z"
    }
   },
   "outputs": [
    {
     "data": {
      "text/plain": [
       "First Owner             4166\n",
       "Second Owner            1885\n",
       "Third Owner              492\n",
       "Fourth & Above Owner     154\n",
       "Test Drive Car             5\n",
       "Name: owner, dtype: int64"
      ]
     },
     "execution_count": 45,
     "metadata": {},
     "output_type": "execute_result"
    }
   ],
   "source": [
    "df[\"owner\"].value_counts()"
   ]
  },
  {
   "cell_type": "code",
   "execution_count": 46,
   "metadata": {
    "execution": {
     "iopub.execute_input": "2022-01-31T20:27:36.499656Z",
     "iopub.status.busy": "2022-01-31T20:27:36.499228Z",
     "iopub.status.idle": "2022-01-31T20:27:36.698285Z",
     "shell.execute_reply": "2022-01-31T20:27:36.697314Z",
     "shell.execute_reply.started": "2022-01-31T20:27:36.499615Z"
    }
   },
   "outputs": [
    {
     "data": {
      "image/png": "[encoded data removed]",
      "text/plain": [
       "<Figure size 432x288 with 1 Axes>"
      ]
     },
     "metadata": {
      "needs_background": "light"
     },
     "output_type": "display_data"
    }
   ],
   "source": [
    "sns.countplot(x='owner', data=df)\n",
    "plt.show()"
   ]
  },
  {
   "cell_type": "markdown",
   "metadata": {},
   "source": [
    "Most of the cars are single owner "
   ]
  },
  {
   "cell_type": "code",
   "execution_count": 30,
   "metadata": {
    "execution": {
     "iopub.execute_input": "2022-01-31T20:27:36.700638Z",
     "iopub.status.busy": "2022-01-31T20:27:36.700383Z",
     "iopub.status.idle": "2022-01-31T20:27:37.047099Z",
     "shell.execute_reply": "2022-01-31T20:27:37.046093Z",
     "shell.execute_reply.started": "2022-01-31T20:27:36.700607Z"
    }
   },
   "outputs": [
    {
     "data": {
      "image/png": "[encoded data removed]",
      "text/plain": [
       "<Figure size 432x288 with 1 Axes>"
      ]
     },
     "metadata": {
      "needs_background": "light"
     },
     "output_type": "display_data"
    }
   ],
   "source": [
    "sns.countplot(x='seats', data=df)\n",
    "plt.show()"
   ]
  },
  {
   "cell_type": "markdown",
   "metadata": {},
   "source": [
    "Most of them are 5 seater cars followed by 7 seater cars"
   ]
  },
  {
   "cell_type": "code",
   "execution_count": 47,
   "metadata": {
    "execution": {
     "iopub.execute_input": "2022-01-31T20:40:19.100503Z",
     "iopub.status.busy": "2022-01-31T20:40:19.099667Z",
     "iopub.status.idle": "2022-01-31T20:40:19.354950Z",
     "shell.execute_reply": "2022-01-31T20:40:19.354007Z",
     "shell.execute_reply.started": "2022-01-31T20:40:19.100460Z"
    }
   },
   "outputs": [
    {
     "data": {
      "text/plain": [
       "<AxesSubplot:xlabel='mileage'>"
      ]
     },
     "execution_count": 47,
     "metadata": {},
     "output_type": "execute_result"
    },
    {
     "data": {
      "image/png": "[encoded data removed]",
      "text/plain": [
       "<Figure size 432x288 with 1 Axes>"
      ]
     },
     "metadata": {
      "needs_background": "light"
     },
     "output_type": "display_data"
    }
   ],
   "source": [
    "sns.distplot(df['mileage'],kde=False)"
   ]
  },
  {
   "cell_type": "markdown",
   "metadata": {},
   "source": [
    "from above distribution plot we see some cars having 0 mileage, it does not makesense, need to drop them"
   ]
  },
  {
   "cell_type": "code",
   "execution_count": 48,
   "metadata": {
    "execution": {
     "iopub.execute_input": "2022-01-31T20:28:56.454121Z",
     "iopub.status.busy": "2022-01-31T20:28:56.453816Z",
     "iopub.status.idle": "2022-01-31T20:28:56.461534Z",
     "shell.execute_reply": "2022-01-31T20:28:56.460667Z",
     "shell.execute_reply.started": "2022-01-31T20:28:56.454084Z"
    }
   },
   "outputs": [],
   "source": [
    "df[df[\"mileage\"]==0]\n",
    "df = df[df[\"mileage\"]!=0]"
   ]
  },
  {
   "cell_type": "code",
   "execution_count": 49,
   "metadata": {
    "execution": {
     "iopub.execute_input": "2022-01-31T20:32:34.801133Z",
     "iopub.status.busy": "2022-01-31T20:32:34.800811Z",
     "iopub.status.idle": "2022-01-31T20:32:35.124825Z",
     "shell.execute_reply": "2022-01-31T20:32:35.123823Z",
     "shell.execute_reply.started": "2022-01-31T20:32:34.801093Z"
    }
   },
   "outputs": [
    {
     "data": {
      "text/plain": [
       "<AxesSubplot:xlabel='engine'>"
      ]
     },
     "execution_count": 49,
     "metadata": {},
     "output_type": "execute_result"
    },
    {
     "data": {
      "image/png": "[encoded data removed]",
      "text/plain": [
       "<Figure size 432x288 with 1 Axes>"
      ]
     },
     "metadata": {
      "needs_background": "light"
     },
     "output_type": "display_data"
    }
   ],
   "source": [
    "sns.distplot(df['engine'], kde =False)"
   ]
  },
  {
   "cell_type": "code",
   "execution_count": 50,
   "metadata": {
    "execution": {
     "iopub.execute_input": "2022-01-31T20:32:55.239367Z",
     "iopub.status.busy": "2022-01-31T20:32:55.238880Z",
     "iopub.status.idle": "2022-01-31T20:32:55.257911Z",
     "shell.execute_reply": "2022-01-31T20:32:55.257268Z",
     "shell.execute_reply.started": "2022-01-31T20:32:55.239315Z"
    }
   },
   "outputs": [
    {
     "data": {
      "text/html": [
       "<div>\n",
       "<style scoped>\n",
       "    .dataframe tbody tr th:only-of-type {\n",
       "        vertical-align: middle;\n",
       "    }\n",
       "\n",
       "    .dataframe tbody tr th {\n",
       "        vertical-align: top;\n",
       "    }\n",
       "\n",
       "    .dataframe thead th {\n",
       "        text-align: right;\n",
       "    }\n",
       "</style>\n",
       "<table border=\"1\" class=\"dataframe\">\n",
       "  <thead>\n",
       "    <tr style=\"text-align: right;\">\n",
       "      <th></th>\n",
       "      <th>name</th>\n",
       "      <th>selling_price</th>\n",
       "      <th>km_driven</th>\n",
       "      <th>fuel</th>\n",
       "      <th>seller_type</th>\n",
       "      <th>transmission</th>\n",
       "      <th>owner</th>\n",
       "      <th>mileage</th>\n",
       "      <th>engine</th>\n",
       "      <th>max_power</th>\n",
       "      <th>seats</th>\n",
       "      <th>old</th>\n",
       "    </tr>\n",
       "  </thead>\n",
       "  <tbody>\n",
       "    <tr>\n",
       "      <th>134</th>\n",
       "      <td>Jeep Wrangler 2016-2019 3.6 4X4</td>\n",
       "      <td>4100000</td>\n",
       "      <td>17000</td>\n",
       "      <td>Petrol</td>\n",
       "      <td>Individual</td>\n",
       "      <td>Automatic</td>\n",
       "      <td>First Owner</td>\n",
       "      <td>9.5</td>\n",
       "      <td>3604</td>\n",
       "      <td>280.0</td>\n",
       "      <td>5.0</td>\n",
       "      <td>5</td>\n",
       "    </tr>\n",
       "  </tbody>\n",
       "</table>\n",
       "</div>"
      ],
      "text/plain": [
       "                                name  selling_price  km_driven    fuel  \\\n",
       "134  Jeep Wrangler 2016-2019 3.6 4X4        4100000      17000  Petrol   \n",
       "\n",
       "    seller_type transmission        owner  mileage  engine  max_power seats  \\\n",
       "134  Individual    Automatic  First Owner      9.5    3604      280.0   5.0   \n",
       "\n",
       "     old  \n",
       "134    5  "
      ]
     },
     "execution_count": 50,
     "metadata": {},
     "output_type": "execute_result"
    }
   ],
   "source": [
    "df[df[\"engine\"]>3500]"
   ]
  },
  {
   "cell_type": "markdown",
   "metadata": {},
   "source": [
    "We see all above rows contain same information, lets keep only unique rows dopping duplicates"
   ]
  },
  {
   "cell_type": "code",
   "execution_count": 51,
   "metadata": {
    "execution": {
     "iopub.execute_input": "2022-01-31T20:33:02.967276Z",
     "iopub.status.busy": "2022-01-31T20:33:02.966694Z",
     "iopub.status.idle": "2022-01-31T20:33:02.980068Z",
     "shell.execute_reply": "2022-01-31T20:33:02.979390Z",
     "shell.execute_reply.started": "2022-01-31T20:33:02.967237Z"
    }
   },
   "outputs": [],
   "source": [
    "df = df.drop_duplicates()"
   ]
  },
  {
   "cell_type": "code",
   "execution_count": 52,
   "metadata": {
    "execution": {
     "iopub.execute_input": "2022-01-31T20:33:08.893212Z",
     "iopub.status.busy": "2022-01-31T20:33:08.892444Z",
     "iopub.status.idle": "2022-01-31T20:33:08.915032Z",
     "shell.execute_reply": "2022-01-31T20:33:08.913938Z",
     "shell.execute_reply.started": "2022-01-31T20:33:08.893160Z"
    }
   },
   "outputs": [
    {
     "data": {
      "text/html": [
       "<div>\n",
       "<style scoped>\n",
       "    .dataframe tbody tr th:only-of-type {\n",
       "        vertical-align: middle;\n",
       "    }\n",
       "\n",
       "    .dataframe tbody tr th {\n",
       "        vertical-align: top;\n",
       "    }\n",
       "\n",
       "    .dataframe thead th {\n",
       "        text-align: right;\n",
       "    }\n",
       "</style>\n",
       "<table border=\"1\" class=\"dataframe\">\n",
       "  <thead>\n",
       "    <tr style=\"text-align: right;\">\n",
       "      <th></th>\n",
       "      <th>name</th>\n",
       "      <th>selling_price</th>\n",
       "      <th>km_driven</th>\n",
       "      <th>fuel</th>\n",
       "      <th>seller_type</th>\n",
       "      <th>transmission</th>\n",
       "      <th>owner</th>\n",
       "      <th>mileage</th>\n",
       "      <th>engine</th>\n",
       "      <th>max_power</th>\n",
       "      <th>seats</th>\n",
       "      <th>old</th>\n",
       "    </tr>\n",
       "  </thead>\n",
       "  <tbody>\n",
       "    <tr>\n",
       "      <th>134</th>\n",
       "      <td>Jeep Wrangler 2016-2019 3.6 4X4</td>\n",
       "      <td>4100000</td>\n",
       "      <td>17000</td>\n",
       "      <td>Petrol</td>\n",
       "      <td>Individual</td>\n",
       "      <td>Automatic</td>\n",
       "      <td>First Owner</td>\n",
       "      <td>9.50</td>\n",
       "      <td>3604</td>\n",
       "      <td>280.0</td>\n",
       "      <td>5.0</td>\n",
       "      <td>5</td>\n",
       "    </tr>\n",
       "    <tr>\n",
       "      <th>1530</th>\n",
       "      <td>Ford Endeavour 3.2 Titanium AT 4X4</td>\n",
       "      <td>3250000</td>\n",
       "      <td>12000</td>\n",
       "      <td>Diesel</td>\n",
       "      <td>Individual</td>\n",
       "      <td>Automatic</td>\n",
       "      <td>First Owner</td>\n",
       "      <td>10.91</td>\n",
       "      <td>3198</td>\n",
       "      <td>197.0</td>\n",
       "      <td>7.0</td>\n",
       "      <td>4</td>\n",
       "    </tr>\n",
       "    <tr>\n",
       "      <th>1923</th>\n",
       "      <td>Ford Endeavour 3.2 Titanium AT 4X4</td>\n",
       "      <td>2280000</td>\n",
       "      <td>120000</td>\n",
       "      <td>Diesel</td>\n",
       "      <td>Individual</td>\n",
       "      <td>Automatic</td>\n",
       "      <td>Second Owner</td>\n",
       "      <td>10.91</td>\n",
       "      <td>3198</td>\n",
       "      <td>197.0</td>\n",
       "      <td>7.0</td>\n",
       "      <td>6</td>\n",
       "    </tr>\n",
       "    <tr>\n",
       "      <th>3214</th>\n",
       "      <td>Ford Endeavour 3.2 Titanium AT 4X4</td>\n",
       "      <td>2100000</td>\n",
       "      <td>80000</td>\n",
       "      <td>Diesel</td>\n",
       "      <td>Individual</td>\n",
       "      <td>Automatic</td>\n",
       "      <td>First Owner</td>\n",
       "      <td>10.91</td>\n",
       "      <td>3198</td>\n",
       "      <td>197.0</td>\n",
       "      <td>7.0</td>\n",
       "      <td>6</td>\n",
       "    </tr>\n",
       "    <tr>\n",
       "      <th>5962</th>\n",
       "      <td>Mercedes-Benz E-Class E350 Petrol</td>\n",
       "      <td>1000000</td>\n",
       "      <td>80000</td>\n",
       "      <td>Petrol</td>\n",
       "      <td>Individual</td>\n",
       "      <td>Automatic</td>\n",
       "      <td>Third Owner</td>\n",
       "      <td>10.93</td>\n",
       "      <td>3498</td>\n",
       "      <td>272.0</td>\n",
       "      <td>5.0</td>\n",
       "      <td>13</td>\n",
       "    </tr>\n",
       "    <tr>\n",
       "      <th>6468</th>\n",
       "      <td>Ford Endeavour 3.2 Titanium AT 4X4</td>\n",
       "      <td>3200000</td>\n",
       "      <td>35000</td>\n",
       "      <td>Diesel</td>\n",
       "      <td>Individual</td>\n",
       "      <td>Automatic</td>\n",
       "      <td>First Owner</td>\n",
       "      <td>10.91</td>\n",
       "      <td>3198</td>\n",
       "      <td>197.0</td>\n",
       "      <td>7.0</td>\n",
       "      <td>4</td>\n",
       "    </tr>\n",
       "  </tbody>\n",
       "</table>\n",
       "</div>"
      ],
      "text/plain": [
       "                                    name  selling_price  km_driven    fuel  \\\n",
       "134      Jeep Wrangler 2016-2019 3.6 4X4        4100000      17000  Petrol   \n",
       "1530  Ford Endeavour 3.2 Titanium AT 4X4        3250000      12000  Diesel   \n",
       "1923  Ford Endeavour 3.2 Titanium AT 4X4        2280000     120000  Diesel   \n",
       "3214  Ford Endeavour 3.2 Titanium AT 4X4        2100000      80000  Diesel   \n",
       "5962   Mercedes-Benz E-Class E350 Petrol        1000000      80000  Petrol   \n",
       "6468  Ford Endeavour 3.2 Titanium AT 4X4        3200000      35000  Diesel   \n",
       "\n",
       "     seller_type transmission         owner  mileage  engine  max_power seats  \\\n",
       "134   Individual    Automatic   First Owner     9.50    3604      280.0   5.0   \n",
       "1530  Individual    Automatic   First Owner    10.91    3198      197.0   7.0   \n",
       "1923  Individual    Automatic  Second Owner    10.91    3198      197.0   7.0   \n",
       "3214  Individual    Automatic   First Owner    10.91    3198      197.0   7.0   \n",
       "5962  Individual    Automatic   Third Owner    10.93    3498      272.0   5.0   \n",
       "6468  Individual    Automatic   First Owner    10.91    3198      197.0   7.0   \n",
       "\n",
       "      old  \n",
       "134     5  \n",
       "1530    4  \n",
       "1923    6  \n",
       "3214    6  \n",
       "5962   13  \n",
       "6468    4  "
      ]
     },
     "execution_count": 52,
     "metadata": {},
     "output_type": "execute_result"
    }
   ],
   "source": [
    "df[df[\"engine\"]>3000]"
   ]
  },
  {
   "cell_type": "markdown",
   "metadata": {},
   "source": [
    "we have some high end cars having high engine cc"
   ]
  },
  {
   "cell_type": "code",
   "execution_count": 37,
   "metadata": {
    "execution": {
     "iopub.execute_input": "2022-01-31T20:41:40.007712Z",
     "iopub.status.busy": "2022-01-31T20:41:40.007382Z",
     "iopub.status.idle": "2022-01-31T20:41:40.250859Z",
     "shell.execute_reply": "2022-01-31T20:41:40.249845Z",
     "shell.execute_reply.started": "2022-01-31T20:41:40.007680Z"
    }
   },
   "outputs": [
    {
     "data": {
      "image/png": "[encoded data removed]",
      "text/plain": [
       "<Figure size 432x288 with 1 Axes>"
      ]
     },
     "metadata": {
      "needs_background": "light"
     },
     "output_type": "display_data"
    }
   ],
   "source": [
    "sns.kdeplot(df['selling_price']).set_title('Distribution of Sale Price')\n",
    "plt.show()"
   ]
  },
  {
   "cell_type": "markdown",
   "metadata": {},
   "source": [
    "selling_price is positively skewed"
   ]
  },
  {
   "cell_type": "markdown",
   "metadata": {},
   "source": [
    "### Buiness Task : What are the Factors that affect the Selling prices of the Car?"
   ]
  },
  {
   "cell_type": "code",
   "execution_count": 56,
   "metadata": {
    "execution": {
     "iopub.execute_input": "2022-01-31T20:44:17.644507Z",
     "iopub.status.busy": "2022-01-31T20:44:17.644217Z",
     "iopub.status.idle": "2022-01-31T20:44:17.705454Z",
     "shell.execute_reply": "2022-01-31T20:44:17.704197Z",
     "shell.execute_reply.started": "2022-01-31T20:44:17.644473Z"
    },
    "scrolled": true
   },
   "outputs": [],
   "source": [
    "# let's extact how many years old the car is from year column and drop year column\n",
    "\n",
    "df[\"old\"] = 2022-df[\"year\"]\n",
    "df.drop([\"year\"],axis=1,inplace=True)\n",
    "\n"
   ]
  },
  {
   "cell_type": "code",
   "execution_count": 54,
   "metadata": {
    "execution": {
     "iopub.execute_input": "2022-01-31T20:44:28.479803Z",
     "iopub.status.busy": "2022-01-31T20:44:28.479242Z",
     "iopub.status.idle": "2022-01-31T20:44:28.499010Z",
     "shell.execute_reply": "2022-01-31T20:44:28.498095Z",
     "shell.execute_reply.started": "2022-01-31T20:44:28.479755Z"
    }
   },
   "outputs": [
    {
     "data": {
      "text/html": [
       "<div>\n",
       "<style scoped>\n",
       "    .dataframe tbody tr th:only-of-type {\n",
       "        vertical-align: middle;\n",
       "    }\n",
       "\n",
       "    .dataframe tbody tr th {\n",
       "        vertical-align: top;\n",
       "    }\n",
       "\n",
       "    .dataframe thead th {\n",
       "        text-align: right;\n",
       "    }\n",
       "</style>\n",
       "<table border=\"1\" class=\"dataframe\">\n",
       "  <thead>\n",
       "    <tr style=\"text-align: right;\">\n",
       "      <th></th>\n",
       "      <th>name</th>\n",
       "      <th>selling_price</th>\n",
       "      <th>km_driven</th>\n",
       "      <th>fuel</th>\n",
       "      <th>seller_type</th>\n",
       "      <th>transmission</th>\n",
       "      <th>owner</th>\n",
       "      <th>mileage</th>\n",
       "      <th>engine</th>\n",
       "      <th>max_power</th>\n",
       "      <th>seats</th>\n",
       "      <th>old</th>\n",
       "    </tr>\n",
       "  </thead>\n",
       "  <tbody>\n",
       "    <tr>\n",
       "      <th>0</th>\n",
       "      <td>Maruti Swift Dzire VDI</td>\n",
       "      <td>450000</td>\n",
       "      <td>145500</td>\n",
       "      <td>Diesel</td>\n",
       "      <td>Individual</td>\n",
       "      <td>Manual</td>\n",
       "      <td>First Owner</td>\n",
       "      <td>23.40</td>\n",
       "      <td>1248</td>\n",
       "      <td>74.00</td>\n",
       "      <td>5.0</td>\n",
       "      <td>8</td>\n",
       "    </tr>\n",
       "    <tr>\n",
       "      <th>1</th>\n",
       "      <td>Skoda Rapid 1.5 TDI Ambition</td>\n",
       "      <td>370000</td>\n",
       "      <td>120000</td>\n",
       "      <td>Diesel</td>\n",
       "      <td>Individual</td>\n",
       "      <td>Manual</td>\n",
       "      <td>Second Owner</td>\n",
       "      <td>21.14</td>\n",
       "      <td>1498</td>\n",
       "      <td>103.52</td>\n",
       "      <td>5.0</td>\n",
       "      <td>8</td>\n",
       "    </tr>\n",
       "    <tr>\n",
       "      <th>2</th>\n",
       "      <td>Honda City 2017-2020 EXi</td>\n",
       "      <td>158000</td>\n",
       "      <td>140000</td>\n",
       "      <td>Petrol</td>\n",
       "      <td>Individual</td>\n",
       "      <td>Manual</td>\n",
       "      <td>Third Owner</td>\n",
       "      <td>17.70</td>\n",
       "      <td>1497</td>\n",
       "      <td>78.00</td>\n",
       "      <td>5.0</td>\n",
       "      <td>16</td>\n",
       "    </tr>\n",
       "    <tr>\n",
       "      <th>3</th>\n",
       "      <td>Hyundai i20 Sportz Diesel</td>\n",
       "      <td>225000</td>\n",
       "      <td>127000</td>\n",
       "      <td>Diesel</td>\n",
       "      <td>Individual</td>\n",
       "      <td>Manual</td>\n",
       "      <td>First Owner</td>\n",
       "      <td>23.00</td>\n",
       "      <td>1396</td>\n",
       "      <td>90.00</td>\n",
       "      <td>5.0</td>\n",
       "      <td>12</td>\n",
       "    </tr>\n",
       "    <tr>\n",
       "      <th>4</th>\n",
       "      <td>Maruti Swift VXI BSIII</td>\n",
       "      <td>130000</td>\n",
       "      <td>120000</td>\n",
       "      <td>Petrol</td>\n",
       "      <td>Individual</td>\n",
       "      <td>Manual</td>\n",
       "      <td>First Owner</td>\n",
       "      <td>16.10</td>\n",
       "      <td>1298</td>\n",
       "      <td>88.20</td>\n",
       "      <td>5.0</td>\n",
       "      <td>15</td>\n",
       "    </tr>\n",
       "  </tbody>\n",
       "</table>\n",
       "</div>"
      ],
      "text/plain": [
       "                           name  selling_price  km_driven    fuel seller_type  \\\n",
       "0        Maruti Swift Dzire VDI         450000     145500  Diesel  Individual   \n",
       "1  Skoda Rapid 1.5 TDI Ambition         370000     120000  Diesel  Individual   \n",
       "2      Honda City 2017-2020 EXi         158000     140000  Petrol  Individual   \n",
       "3     Hyundai i20 Sportz Diesel         225000     127000  Diesel  Individual   \n",
       "4        Maruti Swift VXI BSIII         130000     120000  Petrol  Individual   \n",
       "\n",
       "  transmission         owner  mileage  engine  max_power seats  old  \n",
       "0       Manual   First Owner    23.40    1248      74.00   5.0    8  \n",
       "1       Manual  Second Owner    21.14    1498     103.52   5.0    8  \n",
       "2       Manual   Third Owner    17.70    1497      78.00   5.0   16  \n",
       "3       Manual   First Owner    23.00    1396      90.00   5.0   12  \n",
       "4       Manual   First Owner    16.10    1298      88.20   5.0   15  "
      ]
     },
     "execution_count": 54,
     "metadata": {},
     "output_type": "execute_result"
    }
   ],
   "source": [
    "df.head()"
   ]
  },
  {
   "cell_type": "code",
   "execution_count": 55,
   "metadata": {
    "execution": {
     "iopub.execute_input": "2022-01-31T20:44:36.501828Z",
     "iopub.status.busy": "2022-01-31T20:44:36.501519Z",
     "iopub.status.idle": "2022-01-31T20:44:36.801544Z",
     "shell.execute_reply": "2022-01-31T20:44:36.800670Z",
     "shell.execute_reply.started": "2022-01-31T20:44:36.501794Z"
    }
   },
   "outputs": [
    {
     "data": {
      "image/png": "[encoded data removed]",
      "text/plain": [
       "<Figure size 432x288 with 2 Axes>"
      ]
     },
     "metadata": {
      "needs_background": "light"
     },
     "output_type": "display_data"
    }
   ],
   "source": [
    "sns.heatmap(df.corr())\n",
    "plt.show()"
   ]
  },
  {
   "cell_type": "markdown",
   "metadata": {},
   "source": [
    "#### Factors That affect the Selling Price of the Car\n",
    "**selling price is negatively correlated with**:\n",
    "1) old variable\n",
    "2) km_driven  \n",
    "**selling price is positevly correlated with**:\n",
    "1) max_power\n",
    "2) engine "
   ]
  }
 ],
 "metadata": {
  "kernelspec": {
   "display_name": "Python 3 (ipykernel)",
   "language": "python",
   "name": "python3"
  },
  "language_info": {
   "codemirror_mode": {
    "name": "ipython",
    "version": 3
   },
   "file_extension": ".py",
   "mimetype": "text/x-python",
   "name": "python",
   "nbconvert_exporter": "python",
   "pygments_lexer": "ipython3",
   "version": "3.9.6"
  }
 },
 "nbformat": 4,
 "nbformat_minor": 4
}
